{
 "cells": [
  {
   "cell_type": "code",
   "execution_count": 11,
   "metadata": {},
   "outputs": [],
   "source": [
    "!cd ~"
   ]
  },
  {
   "cell_type": "code",
   "execution_count": 12,
   "metadata": {},
   "outputs": [],
   "source": [
    "import pandas as pd\n",
    "import numpy as np\n",
    "import os"
   ]
  },
  {
   "cell_type": "code",
   "execution_count": 24,
   "metadata": {},
   "outputs": [
    {
     "name": "stdout",
     "output_type": "stream",
     "text": [
      "/Users/flatironschool/Documents/ieee-xgbfir/ieee_xgbfir_1Fold.xlsx\n",
      "/Users/flatironschool/Documents/ieee-xgbfir/ieee_xgbfir_2Fold.xlsx\n",
      "/Users/flatironschool/Documents/ieee-xgbfir/ieee_xgbfir_3Fold.xlsx\n",
      "/Users/flatironschool/Documents/ieee-xgbfir/ieee_xgbfir_5Fold.xlsx\n",
      "/Users/flatironschool/Documents/ieee-xgbfir/ieee_xgbfir_4Fold.xlsx\n"
     ]
    }
   ],
   "source": [
    "path = '/Users/flatironschool/Documents/ieee-xgbfir/'\n",
    "xls = []\n",
    "for d in os.scandir(path):\n",
    "    print(path+d.name)\n",
    "    xl_file = pd.ExcelFile(path+d.name)\n",
    "    xls.append(xl_file)\n",
    "#     fi = pd.read_csv(path+d.name)"
   ]
  },
  {
   "cell_type": "code",
   "execution_count": 26,
   "metadata": {},
   "outputs": [
    {
     "data": {
      "text/plain": [
       "<pandas.io.excel.ExcelFile at 0x10d33de10>"
      ]
     },
     "execution_count": 26,
     "metadata": {},
     "output_type": "execute_result"
    }
   ],
   "source": [
    "xls[0]"
   ]
  },
  {
   "cell_type": "code",
   "execution_count": null,
   "metadata": {},
   "outputs": [],
   "source": []
  }
 ],
 "metadata": {
  "kernelspec": {
   "display_name": "Python 3",
   "language": "python",
   "name": "python3"
  },
  "language_info": {
   "codemirror_mode": {
    "name": "ipython",
    "version": 3
   },
   "file_extension": ".py",
   "mimetype": "text/x-python",
   "name": "python",
   "nbconvert_exporter": "python",
   "pygments_lexer": "ipython3",
   "version": "3.6.6"
  }
 },
 "nbformat": 4,
 "nbformat_minor": 2
}
